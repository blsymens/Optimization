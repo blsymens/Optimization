{
 "cells": [
  {
   "cell_type": "code",
   "execution_count": null,
   "metadata": {
    "application/vnd.databricks.v1+cell": {
     "cellMetadata": {},
     "inputWidgets": {},
     "nuid": "9f1b94c2-d908-4e71-ad97-cf53bf546414",
     "showTitle": false,
     "title": ""
    }
   },
   "outputs": [],
   "source": [
    "import sys\n",
    "import os\n",
    "sys.path.append(os.path.abspath('') + \"/../src\")\n",
    "import numpy as np\n",
    "import pandas as pd\n",
    "from datetime import datetime, timedelta\n",
    "from pyspark.sql import functions as F\n",
    "import seaborn as sns\n",
    "import matplotlib.pyplot as plt\n",
    "import plotly.graph_objects as go"
   ]
  },
  {
   "cell_type": "code",
   "execution_count": null,
   "metadata": {
    "application/vnd.databricks.v1+cell": {
     "cellMetadata": {},
     "inputWidgets": {},
     "nuid": "57f581ed-69c9-4e08-a767-4f14a77d56ec",
     "showTitle": false,
     "title": ""
    }
   },
   "outputs": [],
   "source": [
    "from scipy.optimize import minimize\n",
    "\n",
    "def predict_viscosity_U(Q,T,parm_B,parm_y):\n",
    "    B = parm_B\n",
    "    y = parm_y\n",
    "    U = Q/B*(T/25)**y\n",
    "    return U\n",
    "\n",
    "parm_B_y_init = (1, 1.5)\n",
    "Q = df['Q'].values\n",
    "T = df['T'].values\n",
    "U_actual = df['U'].values\n",
    "\n",
    "def cost_function(_x0):\n",
    "    B = _x0[0]\n",
    "    y = _x0[1]\n",
    "    U_predicted = predict_viscosity_U(Q, T, B, y)\n",
    "    return np.mean((U_predicted - U_actual)**2)**0.5\n",
    "\n",
    "# Define the bounds for B and y\n",
    "bounds = [(0, 5), (0, 5)]\n",
    "\n",
    "# Define the initial guess for B and y\n",
    "x0 = parm_B_y_init\n",
    "\n",
    "# Use minimize function to find the best possible combinations for B and y\n",
    "result = minimize(cost_function, x0, bounds=bounds, tol=1e-10, method='SLSQP')\n",
    "\n",
    "result.x"
   ]
  },
  {
   "cell_type": "code",
   "execution_count": null,
   "metadata": {
    "application/vnd.databricks.v1+cell": {
     "cellMetadata": {},
     "inputWidgets": {},
     "nuid": "9d4b617f-4e1d-4818-abc3-a93ffde32e8b",
     "showTitle": false,
     "title": ""
    }
   },
   "outputs": [],
   "source": [
    "# Initialize parameters\n",
    "B_init = 2\n",
    "y_init = 1\n",
    "B_constraint = [0,5]\n",
    "y_constraint = [0,5]\n",
    "learning_rate = 0.000001\n",
    "max_iter = 10000\n",
    "\n",
    "# Convert pandas dataframe to numpy arrays\n",
    "Q = df['Q'].values\n",
    "T = df['T'].values\n",
    "U_actual = df['U'].values\n",
    "\n",
    "# Define cost function\n",
    "def cost_function(B, y):\n",
    "    U_predicted = predict_viscosity_U(Q, T, B, y)\n",
    "    return np.mean((U_predicted - U_actual)**2)\n",
    "\n",
    "# Gradient descent algorithm\n",
    "B = B_init\n",
    "y = y_init\n",
    "cost_history = []\n",
    "B_history = []\n",
    "y_history = []\n",
    "\n",
    "for i in range(max_iter):\n",
    "    U_predicted = predict_viscosity_U(Q, T, B, y)\n",
    "    error = U_predicted - U_actual\n",
    "    dJdB = - 2 * np.mean(error * (Q / B) * (T / 25)**y) * B**(-2)\n",
    "    dJdy = 2 * np.mean(error * (Q / B) * (T / 25)**y * np.log(T / 25))\n",
    "    \n",
    "    if (B - learning_rate * dJdB) > B_constraint[0] and (B - learning_rate * dJdB) < B_constraint[1]:\n",
    "        B = B - learning_rate * dJdB\n",
    "    if (y - learning_rate * dJdy) > y_constraint[0] and (B - learning_rate * dJdy) < y_constraint[1]:\n",
    "        y = y - learning_rate * dJdy\n",
    "    \n",
    "    cost = cost_function(B, y)\n",
    "    cost_history.append(cost)\n",
    "    B_history.append(B)\n",
    "    y_history.append(y)\n",
    "\n",
    "# Plot cost history\n",
    "import matplotlib.pyplot as plt\n",
    "plt.plot(cost_history,'k')\n",
    "plt.xlabel('Iteration')\n",
    "plt.ylabel('RMSE (mPas)')\n",
    "plt.show()\n",
    "\n",
    "plt.plot(B_history,cost_history,'k')\n",
    "plt.xlabel('B')\n",
    "plt.ylabel('RMSE (mPas)')\n",
    "plt.show()\n",
    "\n",
    "plt.plot(y_history,cost_history,'k')\n",
    "plt.xlabel('y')\n",
    "plt.ylabel('RMSE (mPas)')\n",
    "plt.show()\n",
    "\n",
    "B,y,cost,i"
   ]
  },
  {
   "cell_type": "code",
   "execution_count": null,
   "metadata": {
    "application/vnd.databricks.v1+cell": {
     "cellMetadata": {},
     "inputWidgets": {},
     "nuid": "64df39b2-140e-4df0-9d0c-b66764668da7",
     "showTitle": false,
     "title": ""
    }
   },
   "outputs": [],
   "source": [
    "# Define the range and step size for B and y\n",
    "B_range = np.arange(1, 2, 0.001)\n",
    "y_range = np.arange(1, 2.5, 0.001)\n",
    "\n",
    "# Initialize the cost matrix\n",
    "cost_matrix = np.zeros((len(B_range), len(y_range)))\n",
    "\n",
    "# Perform grid search\n",
    "for i, B in enumerate(B_range):\n",
    "    for j, y in enumerate(y_range):\n",
    "        U_predicted = predict_viscosity_U(Q, T, B, y)\n",
    "        error = U_predicted - U_actual\n",
    "        cost = np.mean((error)**2)\n",
    "        cost_matrix[i, j] = cost\n",
    "\n",
    "min_indices = np.unravel_index(np.argmin(cost_matrix), cost_matrix.shape)\n",
    "global_min_B = B_range[min_indices[0]]\n",
    "global_min_y = y_range[min_indices[1]]\n",
    "\n",
    "global_min_B, global_min_y, cost_matrix.min()"
   ]
  },
  {
   "cell_type": "code",
   "execution_count": null,
   "metadata": {
    "application/vnd.databricks.v1+cell": {
     "cellMetadata": {},
     "inputWidgets": {},
     "nuid": "46f2775e-ac1a-47fe-931e-4e1063513521",
     "showTitle": false,
     "title": ""
    }
   },
   "outputs": [],
   "source": [
    "# Create the 3D surface plot\n",
    "fig = go.Figure(data=[go.Surface(x=B_range, y=y_range, z=cost_matrix.T, colorscale='viridis', cmin=0)])\n",
    "fig.update_layout(title='Cost RMSE vs B and y', scene=dict(xaxis_title='B', yaxis_title='y', zaxis_title='Cost RMSE'), width=800, height=800)"
   ]
  },
  {
   "cell_type": "code",
   "execution_count": null,
   "metadata": {
    "application/vnd.databricks.v1+cell": {
     "cellMetadata": {},
     "inputWidgets": {},
     "nuid": "6f92e90b-b1b4-4df6-b213-62f6346e3a3b",
     "showTitle": false,
     "title": ""
    }
   },
   "outputs": [],
   "source": [
    "plt.figure(figsize=(10,8))\n",
    "contour = plt.contourf(B_range, y_range, cost_matrix.T, levels=25, cmap='viridis')\n",
    "plt.xlabel('B')\n",
    "plt.ylabel('y')\n",
    "plt.title('Finding optimal parameters for B and y to get lowest cost-function')\n",
    "plt.colorbar(contour)\n",
    "plt.plot(B_history,y_history,'w-',label='Gradient Descent path')\n",
    "plt.legend()\n",
    "plt.show()"
   ]
  }
 ],
 "metadata": {
  "application/vnd.databricks.v1+notebook": {
   "dashboards": [],
   "environmentMetadata": {
    "base_environment": "",
    "client": "1"
   },
   "language": "python",
   "notebookMetadata": {
    "pythonIndentUnit": 4
   },
   "notebookName": "tuning_parameters_W2704_M50",
   "widgets": {}
  },
  "language_info": {
   "name": "python"
  }
 },
 "nbformat": 4,
 "nbformat_minor": 0
}
